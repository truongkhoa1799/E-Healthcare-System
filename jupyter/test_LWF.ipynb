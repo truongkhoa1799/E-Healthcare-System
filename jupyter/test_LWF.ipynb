{
 "cells": [
  {
   "cell_type": "markdown",
   "metadata": {},
   "source": [
    "# TEST FACE RECOGNITION"
   ]
  },
  {
   "cell_type": "code",
   "execution_count": 1,
   "metadata": {},
   "outputs": [],
   "source": [
    "import os\n",
    "import re\n",
    "import cv2\n",
    "import time\n",
    "import pickle\n",
    "import numpy as np\n",
    "from sklearn import neighbors"
   ]
  },
  {
   "cell_type": "markdown",
   "metadata": {},
   "source": [
    "## PARAS"
   ]
  },
  {
   "cell_type": "code",
   "execution_count": 2,
   "metadata": {},
   "outputs": [],
   "source": [
    "LWF_FOLDER_FACE = '/Users/khoa1799/GitHub/DATA/LWF/data'\n",
    "LWF_CUT_FOLDER_FACE = '/Users/khoa1799/GitHub/DATA/LWF/cut_data'\n",
    "\n",
    "LWF_PATH_USER_ID = '/Users/khoa1799/GitHub/E-Healthcare-System/jupyter/model/LWF_ID_Face'\n",
    "LWF_PATH_USER_IMG_ENCODED = '/Users/khoa1799/GitHub/E-Healthcare-System/jupyter/model/LWF_Encoded_Face'\n",
    "LWF_KNN_MODEL_PATH = \"/Users/khoa1799/GitHub/E-Healthcare-System/jupyter/model/LWF_knn_clf_model.clf\"\n",
    "LWF_SVM_MODEL_PATH = \"/Users/khoa1799/GitHub/E-Healthcare-System/jupyter/model/LWF_svm_clf_model.clf\"\n",
    "\n",
    "PREDICTOR_5_POINT_MODEL = '/Users/khoa1799/GitHub/E-Healthcare-System/jupyter/model/shape_predictor_5_face_landmarks.dat'\n",
    "RESNET_MODEL = '/Users/khoa1799/GitHub/E-Healthcare-System/jupyter/model/dlib_face_recognition_resnet_model_v1.dat'\n",
    "\n",
    "IMAGE_SIZE = 150"
   ]
  },
  {
   "cell_type": "markdown",
   "metadata": {},
   "source": [
    "## FACE ENCODING"
   ]
  },
  {
   "cell_type": "code",
   "execution_count": 3,
   "metadata": {},
   "outputs": [],
   "source": [
    "import dlib\n",
    "pose_predictor_5_point = dlib.shape_predictor(PREDICTOR_5_POINT_MODEL)\n",
    "face_encoder = dlib.face_recognition_model_v1(RESNET_MODEL)"
   ]
  },
  {
   "cell_type": "code",
   "execution_count": 4,
   "metadata": {},
   "outputs": [],
   "source": [
    "def face_encodings(face_image, known_face_locations):\n",
    "    raw_landmarks = _raw_face_landmarks(face_image, known_face_locations)\n",
    "    return [np.array(face_encoder.compute_face_descriptor(face_image, raw_landmark_set, 1)) for raw_landmark_set in raw_landmarks]\n",
    "\n",
    "def _css_to_rect(css):\n",
    "    return dlib.rectangle(css[3], css[0], css[1], css[2])\n",
    "\n",
    "def _raw_face_landmarks(face_image, face_locations):\n",
    "    if face_locations is None:\n",
    "        face_locations = _raw_face_locations(face_image)\n",
    "    else:\n",
    "        face_locations = [_css_to_rect(face_location) for face_location in face_locations]\n",
    "\n",
    "    pose_predictor = pose_predictor_5_point\n",
    "\n",
    "    return [pose_predictor(face_image, face_location) for face_location in face_locations]"
   ]
  },
  {
   "cell_type": "markdown",
   "metadata": {},
   "source": [
    "## GET THE BOUNDING BOX CONTAINNING FACE IN IMAGE BUT NOT ALIGNED"
   ]
  },
  {
   "cell_type": "code",
   "execution_count": 5,
   "metadata": {},
   "outputs": [],
   "source": [
    "def Cut_Img(loaded_img):\n",
    "    ret_img = loaded_img.copy()\n",
    "    \n",
    "    max_fra = max( loaded_img.shape[0], loaded_img.shape[1] ) / 320\n",
    "    new_height = int( loaded_img.shape[0] / max_fra )\n",
    "    new_width = int( loaded_img.shape[1] / max_fra )\n",
    "\n",
    "    resized_img = cv2.resize(loaded_img, ( new_width, new_height ))\n",
    "    RGB_resized_img = cv2.cvtColor(resized_img, cv2.COLOR_BGR2RGB)\n",
    "\n",
    "    face_locations = face_recognition.face_locations(RGB_resized_img)\n",
    "    for (top, right, bottom, left) in face_locations:\n",
    "        top *= max_fra\n",
    "        bottom *= max_fra\n",
    "        left *= max_fra\n",
    "        right *= max_fra\n",
    "\n",
    "        return len(face_locations), ret_img[int(top):int(bottom),int(left):int(right)]\n",
    "    return 0, 0"
   ]
  },
  {
   "cell_type": "markdown",
   "metadata": {},
   "source": [
    "## LOAD AND SAVE MODEL"
   ]
  },
  {
   "cell_type": "code",
   "execution_count": 6,
   "metadata": {},
   "outputs": [],
   "source": [
    "def SaveData(known_face_IDs, known_face_encodings, path_user_id, path_user_img_encoded):\n",
    "    with open(path_user_id, mode='wb') as fp_1:\n",
    "        pickle.dump(known_face_IDs, fp_1)\n",
    "\n",
    "    with open(path_user_img_encoded, 'wb') as fp_2:\n",
    "        pickle.dump(known_face_encodings, fp_2)\n",
    "\n",
    "def SaveKNNModel(knn_clf, path_model):\n",
    "    if path_model is not None:\n",
    "        with open(path_model, 'wb') as f:\n",
    "            pickle.dump(knn_clf, f)\n",
    "\n",
    "def SaveSVMModel(svm_clf, path_model):\n",
    "    if path_model is not None:\n",
    "        with open(path_model, 'wb') as f:\n",
    "            pickle.dump(svm_clf, f)\n",
    "\n",
    "def LoadData(path_user_id, path_user_img_encoded):\n",
    "    known_face_IDs = None\n",
    "    known_face_encodings = None\n",
    "    if not os.path.exists(path_user_id):\n",
    "        print(\"There is no user id face to load\")\n",
    "        exit(-1)\n",
    "\n",
    "    with open (path_user_id, 'rb') as fp_1:\n",
    "        known_face_IDs = pickle.load(fp_1)\n",
    "\n",
    "    if not os.path.exists(path_user_img_encoded):\n",
    "        print(\"There is no user encoding face to load\")\n",
    "        exit(-1)\n",
    "\n",
    "    with open (path_user_img_encoded, 'rb') as fp_2:\n",
    "        known_face_encodings = pickle.load(fp_2)\n",
    "    \n",
    "    return known_face_IDs, known_face_encodings\n",
    "        \n",
    "def LoadKNNModel(path_model):\n",
    "    if not os.path.exists(path_model):\n",
    "        print(\"There is KNN model to load\")\n",
    "        exit(-1)\n",
    "\n",
    "    with open(path_model, 'rb') as f:\n",
    "        knn_clf = pickle.load(f)\n",
    "        return knn_clf\n",
    "\n",
    "def LoadSVMModel(path_model):\n",
    "    if not os.path.exists(path_model):\n",
    "        print(\"There is KNN model to load\")\n",
    "        exit(-1)\n",
    "\n",
    "    with open(path_model, 'rb') as f:\n",
    "        svm_clf = pickle.load(f)\n",
    "        return svm_clf"
   ]
  },
  {
   "cell_type": "markdown",
   "metadata": {},
   "source": [
    "# LWF DATASET"
   ]
  },
  {
   "cell_type": "markdown",
   "metadata": {},
   "source": [
    "## Preprocessing"
   ]
  },
  {
   "cell_type": "code",
   "execution_count": 8,
   "metadata": {},
   "outputs": [],
   "source": [
    "import cv2\n",
    "import numpy as np\n",
    "BASE_BRIGHTNESS = 180\n",
    "IMAGE_SIZE = 150\n",
    "\n",
    "def adjust_brightness(img):\n",
    "    hsv_img = cv2.cvtColor(img, cv2.COLOR_BGR2HSV) #convert it to hsv\n",
    "    v = hsv_img[:, :, 2]\n",
    "    mean_v = np.mean(v)\n",
    "    diff = BASE_BRIGHTNESS - mean_v\n",
    "                   \n",
    "    if diff < 0:\n",
    "        v = np.where(v < abs(diff), v, v + diff)\n",
    "    else:\n",
    "        v = np.where( v + diff > 255, v, v + diff)\n",
    "\n",
    "    hsv_img[:, :, 2] = v\n",
    "    ret_img = cv2.cvtColor(hsv_img, cv2.COLOR_HSV2BGR)\n",
    "    # return BRG image\n",
    "    return ret_img\n",
    "\n",
    "def preprocessing(img):\n",
    "    # Resize image\n",
    "    resized_img = cv2.resize(img, (IMAGE_SIZE,IMAGE_SIZE))\n",
    "\n",
    "    # Adjust bright image\n",
    "    adjusted_brightness_img = adjust_brightness(resized_img)\n",
    "\n",
    "    # Change to RGB image\n",
    "    GRAY_resized_img = cv2.cvtColor(adjusted_brightness_img, cv2.COLOR_BGR2GRAY)\n",
    "\n",
    "    # return RGB image\n",
    "    return GRAY_resized_img"
   ]
  },
  {
   "cell_type": "markdown",
   "metadata": {},
   "source": [
    "# TEST LWF DATASET"
   ]
  },
  {
   "cell_type": "code",
   "execution_count": 9,
   "metadata": {},
   "outputs": [],
   "source": [
    "from sklearn.datasets import fetch_lfw_people\n",
    "from sklearn.model_selection import train_test_split"
   ]
  },
  {
   "cell_type": "code",
   "execution_count": 10,
   "metadata": {},
   "outputs": [],
   "source": [
    "lfw_people = fetch_lfw_people(min_faces_per_person=1, resize=1.5, color=True)"
   ]
  },
  {
   "cell_type": "markdown",
   "metadata": {},
   "source": [
    "### Create test, train, and unknown dataset"
   ]
  },
  {
   "cell_type": "code",
   "execution_count": 11,
   "metadata": {},
   "outputs": [
    {
     "name": "stdout",
     "output_type": "stream",
     "text": [
      "Minimum images in one class: 1\n",
      "Maximum images in one class: 530\n",
      "\n",
      "Total images: 13233\n",
      "Total images for train: 1555\n",
      "Total images for test: 3870\n",
      "Total images unknown: 7808\n"
     ]
    }
   ],
   "source": [
    "import cv2\n",
    "import matplotlib.pyplot as plt\n",
    "\n",
    "# List BGR image\n",
    "X = lfw_people.images\n",
    "X = [cv2.normalize(src=x, dst=None, alpha=0, beta=255, norm_type=cv2.NORM_MINMAX, dtype=cv2.CV_8U)for x in X]\n",
    "X = [cv2.cvtColor(x, cv2.COLOR_RGB2BGR) for x in X]\n",
    "\n",
    "Y = lfw_people.target\n",
    "Y = [y for y in Y]\n",
    "\n",
    "freq = {}\n",
    "min = 10000\n",
    "max = 0\n",
    "\n",
    "for i in Y:\n",
    "    if (i in freq): \n",
    "        freq[i] += 1\n",
    "    else: \n",
    "        freq[i] = 1\n",
    "    \n",
    "    if freq[i] > max:\n",
    "        max = freq[i]\n",
    "    if freq[i] < min:\n",
    "        min = freq[i]\n",
    "        \n",
    "print(\"Minimum images in one class: {}\".format(min))\n",
    "print(\"Maximum images in one class: {}\".format(max))\n",
    "print()\n",
    "\n",
    "dict_Y_greater_5 = {}\n",
    "list_Y_greater_5 = []\n",
    "list_Y_unknown = []\n",
    "\n",
    "for i in freq:\n",
    "    if freq[i] <=5:\n",
    "        list_Y_unknown.append(i)\n",
    "    elif freq[i] > 5:\n",
    "        dict_Y_greater_5[i] = 0\n",
    "        list_Y_greater_5.append(i)\n",
    "\n",
    "# Create unknown people data\n",
    "X_unknown = []\n",
    "Y_unknown = []\n",
    "X_train = []\n",
    "Y_train = []\n",
    "X_test = []\n",
    "Y_test = []\n",
    "\n",
    "for i in range(len(Y)):\n",
    "    if Y[i] in list_Y_unknown:\n",
    "        X_unknown.append(X[i])\n",
    "        Y_unknown.append(Y[i])\n",
    "    else:\n",
    "        dict_Y_greater_5[Y[i]] += 1\n",
    "        if dict_Y_greater_5[Y[i]] <=5:\n",
    "            X_train.append(X[i])\n",
    "            Y_train.append(Y[i])\n",
    "        else:\n",
    "            X_test.append(X[i])\n",
    "            Y_test.append(Y[i])\n",
    "\n",
    "print(\"Total images: {}\".format(len(Y)))\n",
    "print(\"Total images for train: {}\".format(len(Y_train)))\n",
    "print(\"Total images for test: {}\".format(len(Y_test)))\n",
    "print(\"Total images unknown: {}\".format(len(Y_unknown)))"
   ]
  },
  {
   "cell_type": "code",
   "execution_count": 12,
   "metadata": {},
   "outputs": [
    {
     "name": "stdout",
     "output_type": "stream",
     "text": [
      "Shape of each images: (187, 141, 3)\n"
     ]
    }
   ],
   "source": [
    "print(\"Shape of each images: {}\".format(X[0].shape))"
   ]
  },
  {
   "cell_type": "markdown",
   "metadata": {},
   "source": [
    "### CREATE EMBEDDED CODE AND USER ID"
   ]
  },
  {
   "cell_type": "code",
   "execution_count": 13,
   "metadata": {},
   "outputs": [
    {
     "ename": "TypeError",
     "evalue": "compute_face_descriptor(): incompatible function arguments. The following argument types are supported:\n    1. (self: _dlib_pybind11.face_recognition_model_v1, img: numpy.ndarray[(rows,cols,3),uint8], face: _dlib_pybind11.full_object_detection, num_jitters: int=0, padding: float=0.25) -> _dlib_pybind11.vector\n    2. (self: _dlib_pybind11.face_recognition_model_v1, img: numpy.ndarray[(rows,cols,3),uint8], num_jitters: int=0) -> _dlib_pybind11.vector\n    3. (self: _dlib_pybind11.face_recognition_model_v1, img: numpy.ndarray[(rows,cols,3),uint8], faces: _dlib_pybind11.full_object_detections, num_jitters: int=0, padding: float=0.25) -> _dlib_pybind11.vectors\n    4. (self: _dlib_pybind11.face_recognition_model_v1, batch_img: List[numpy.ndarray[(rows,cols,3),uint8]], batch_faces: List[_dlib_pybind11.full_object_detections], num_jitters: int=0, padding: float=0.25) -> _dlib_pybind11.vectorss\n    5. (self: _dlib_pybind11.face_recognition_model_v1, batch_img: List[numpy.ndarray[(rows,cols,3),uint8]], num_jitters: int=0) -> _dlib_pybind11.vectors\n\nInvoked with: <_dlib_pybind11.face_recognition_model_v1 object at 0x131f343f0>, array([[172, 176, 180, ...,  31,  30,  29],\n       [173, 177, 181, ...,  29,  27,  25],\n       [172, 177, 181, ...,  27,  25,  23],\n       ...,\n       [142, 144, 144, ..., 147, 147, 147],\n       [144, 145, 145, ..., 146, 146, 144],\n       [147, 147, 146, ..., 148, 147, 146]], dtype=uint8), <_dlib_pybind11.full_object_detection object at 0x132143af0>, 1",
     "output_type": "error",
     "traceback": [
      "\u001b[0;31m---------------------------------------------------------------------------\u001b[0m",
      "\u001b[0;31mTypeError\u001b[0m                                 Traceback (most recent call last)",
      "\u001b[0;32m<ipython-input-13-e2cab8efd26c>\u001b[0m in \u001b[0;36m<module>\u001b[0;34m\u001b[0m\n\u001b[1;32m     10\u001b[0m     \u001b[0mpreprocessed_img\u001b[0m \u001b[0;34m=\u001b[0m \u001b[0mpreprocessing\u001b[0m\u001b[0;34m(\u001b[0m\u001b[0mimg\u001b[0m\u001b[0;34m)\u001b[0m\u001b[0;34m\u001b[0m\u001b[0;34m\u001b[0m\u001b[0m\n\u001b[1;32m     11\u001b[0m \u001b[0;34m\u001b[0m\u001b[0m\n\u001b[0;32m---> 12\u001b[0;31m     \u001b[0membedded_face\u001b[0m \u001b[0;34m=\u001b[0m \u001b[0mface_encodings\u001b[0m\u001b[0;34m(\u001b[0m\u001b[0mpreprocessed_img\u001b[0m\u001b[0;34m,\u001b[0m \u001b[0;34m[\u001b[0m\u001b[0;34m(\u001b[0m\u001b[0;36m0\u001b[0m\u001b[0;34m,\u001b[0m\u001b[0mIMAGE_SIZE\u001b[0m\u001b[0;34m,\u001b[0m\u001b[0mIMAGE_SIZE\u001b[0m\u001b[0;34m,\u001b[0m\u001b[0;36m0\u001b[0m\u001b[0;34m)\u001b[0m\u001b[0;34m]\u001b[0m\u001b[0;34m)\u001b[0m\u001b[0;34m[\u001b[0m\u001b[0;36m0\u001b[0m\u001b[0;34m]\u001b[0m\u001b[0;34m\u001b[0m\u001b[0;34m\u001b[0m\u001b[0m\n\u001b[0m\u001b[1;32m     13\u001b[0m \u001b[0;34m\u001b[0m\u001b[0m\n\u001b[1;32m     14\u001b[0m     \u001b[0mknown_face_encodings\u001b[0m\u001b[0;34m.\u001b[0m\u001b[0mappend\u001b[0m\u001b[0;34m(\u001b[0m\u001b[0membedded_face\u001b[0m\u001b[0;34m)\u001b[0m\u001b[0;34m\u001b[0m\u001b[0;34m\u001b[0m\u001b[0m\n",
      "\u001b[0;32m<ipython-input-4-6369971714dc>\u001b[0m in \u001b[0;36mface_encodings\u001b[0;34m(face_image, known_face_locations)\u001b[0m\n\u001b[1;32m      1\u001b[0m \u001b[0;32mdef\u001b[0m \u001b[0mface_encodings\u001b[0m\u001b[0;34m(\u001b[0m\u001b[0mface_image\u001b[0m\u001b[0;34m,\u001b[0m \u001b[0mknown_face_locations\u001b[0m\u001b[0;34m)\u001b[0m\u001b[0;34m:\u001b[0m\u001b[0;34m\u001b[0m\u001b[0;34m\u001b[0m\u001b[0m\n\u001b[1;32m      2\u001b[0m     \u001b[0mraw_landmarks\u001b[0m \u001b[0;34m=\u001b[0m \u001b[0m_raw_face_landmarks\u001b[0m\u001b[0;34m(\u001b[0m\u001b[0mface_image\u001b[0m\u001b[0;34m,\u001b[0m \u001b[0mknown_face_locations\u001b[0m\u001b[0;34m)\u001b[0m\u001b[0;34m\u001b[0m\u001b[0;34m\u001b[0m\u001b[0m\n\u001b[0;32m----> 3\u001b[0;31m     \u001b[0;32mreturn\u001b[0m \u001b[0;34m[\u001b[0m\u001b[0mnp\u001b[0m\u001b[0;34m.\u001b[0m\u001b[0marray\u001b[0m\u001b[0;34m(\u001b[0m\u001b[0mface_encoder\u001b[0m\u001b[0;34m.\u001b[0m\u001b[0mcompute_face_descriptor\u001b[0m\u001b[0;34m(\u001b[0m\u001b[0mface_image\u001b[0m\u001b[0;34m,\u001b[0m \u001b[0mraw_landmark_set\u001b[0m\u001b[0;34m,\u001b[0m \u001b[0;36m1\u001b[0m\u001b[0;34m)\u001b[0m\u001b[0;34m)\u001b[0m \u001b[0;32mfor\u001b[0m \u001b[0mraw_landmark_set\u001b[0m \u001b[0;32min\u001b[0m \u001b[0mraw_landmarks\u001b[0m\u001b[0;34m]\u001b[0m\u001b[0;34m\u001b[0m\u001b[0;34m\u001b[0m\u001b[0m\n\u001b[0m\u001b[1;32m      4\u001b[0m \u001b[0;34m\u001b[0m\u001b[0m\n\u001b[1;32m      5\u001b[0m \u001b[0;32mdef\u001b[0m \u001b[0m_css_to_rect\u001b[0m\u001b[0;34m(\u001b[0m\u001b[0mcss\u001b[0m\u001b[0;34m)\u001b[0m\u001b[0;34m:\u001b[0m\u001b[0;34m\u001b[0m\u001b[0;34m\u001b[0m\u001b[0m\n",
      "\u001b[0;32m<ipython-input-4-6369971714dc>\u001b[0m in \u001b[0;36m<listcomp>\u001b[0;34m(.0)\u001b[0m\n\u001b[1;32m      1\u001b[0m \u001b[0;32mdef\u001b[0m \u001b[0mface_encodings\u001b[0m\u001b[0;34m(\u001b[0m\u001b[0mface_image\u001b[0m\u001b[0;34m,\u001b[0m \u001b[0mknown_face_locations\u001b[0m\u001b[0;34m)\u001b[0m\u001b[0;34m:\u001b[0m\u001b[0;34m\u001b[0m\u001b[0;34m\u001b[0m\u001b[0m\n\u001b[1;32m      2\u001b[0m     \u001b[0mraw_landmarks\u001b[0m \u001b[0;34m=\u001b[0m \u001b[0m_raw_face_landmarks\u001b[0m\u001b[0;34m(\u001b[0m\u001b[0mface_image\u001b[0m\u001b[0;34m,\u001b[0m \u001b[0mknown_face_locations\u001b[0m\u001b[0;34m)\u001b[0m\u001b[0;34m\u001b[0m\u001b[0;34m\u001b[0m\u001b[0m\n\u001b[0;32m----> 3\u001b[0;31m     \u001b[0;32mreturn\u001b[0m \u001b[0;34m[\u001b[0m\u001b[0mnp\u001b[0m\u001b[0;34m.\u001b[0m\u001b[0marray\u001b[0m\u001b[0;34m(\u001b[0m\u001b[0mface_encoder\u001b[0m\u001b[0;34m.\u001b[0m\u001b[0mcompute_face_descriptor\u001b[0m\u001b[0;34m(\u001b[0m\u001b[0mface_image\u001b[0m\u001b[0;34m,\u001b[0m \u001b[0mraw_landmark_set\u001b[0m\u001b[0;34m,\u001b[0m \u001b[0;36m1\u001b[0m\u001b[0;34m)\u001b[0m\u001b[0;34m)\u001b[0m \u001b[0;32mfor\u001b[0m \u001b[0mraw_landmark_set\u001b[0m \u001b[0;32min\u001b[0m \u001b[0mraw_landmarks\u001b[0m\u001b[0;34m]\u001b[0m\u001b[0;34m\u001b[0m\u001b[0;34m\u001b[0m\u001b[0m\n\u001b[0m\u001b[1;32m      4\u001b[0m \u001b[0;34m\u001b[0m\u001b[0m\n\u001b[1;32m      5\u001b[0m \u001b[0;32mdef\u001b[0m \u001b[0m_css_to_rect\u001b[0m\u001b[0;34m(\u001b[0m\u001b[0mcss\u001b[0m\u001b[0;34m)\u001b[0m\u001b[0;34m:\u001b[0m\u001b[0;34m\u001b[0m\u001b[0;34m\u001b[0m\u001b[0m\n",
      "\u001b[0;31mTypeError\u001b[0m: compute_face_descriptor(): incompatible function arguments. The following argument types are supported:\n    1. (self: _dlib_pybind11.face_recognition_model_v1, img: numpy.ndarray[(rows,cols,3),uint8], face: _dlib_pybind11.full_object_detection, num_jitters: int=0, padding: float=0.25) -> _dlib_pybind11.vector\n    2. (self: _dlib_pybind11.face_recognition_model_v1, img: numpy.ndarray[(rows,cols,3),uint8], num_jitters: int=0) -> _dlib_pybind11.vector\n    3. (self: _dlib_pybind11.face_recognition_model_v1, img: numpy.ndarray[(rows,cols,3),uint8], faces: _dlib_pybind11.full_object_detections, num_jitters: int=0, padding: float=0.25) -> _dlib_pybind11.vectors\n    4. (self: _dlib_pybind11.face_recognition_model_v1, batch_img: List[numpy.ndarray[(rows,cols,3),uint8]], batch_faces: List[_dlib_pybind11.full_object_detections], num_jitters: int=0, padding: float=0.25) -> _dlib_pybind11.vectorss\n    5. (self: _dlib_pybind11.face_recognition_model_v1, batch_img: List[numpy.ndarray[(rows,cols,3),uint8]], num_jitters: int=0) -> _dlib_pybind11.vectors\n\nInvoked with: <_dlib_pybind11.face_recognition_model_v1 object at 0x131f343f0>, array([[172, 176, 180, ...,  31,  30,  29],\n       [173, 177, 181, ...,  29,  27,  25],\n       [172, 177, 181, ...,  27,  25,  23],\n       ...,\n       [142, 144, 144, ..., 147, 147, 147],\n       [144, 145, 145, ..., 146, 146, 144],\n       [147, 147, 146, ..., 148, 147, 146]], dtype=uint8), <_dlib_pybind11.full_object_detection object at 0x132143af0>, 1"
     ]
    }
   ],
   "source": [
    "known_face_IDs = []\n",
    "known_face_encodings = []\n",
    "IMAGE_SIZE = 150\n",
    "\n",
    "time_start = time.time()\n",
    "for i in range(len(X_train)):\n",
    "    img = X_train[i]\n",
    "    user_ID = Y_train[i]\n",
    "    \n",
    "    preprocessed_img = preprocessing(img)\n",
    "\n",
    "    embedded_face = face_encodings(preprocessed_img, [(0,IMAGE_SIZE,IMAGE_SIZE,0)])[0]\n",
    "\n",
    "    known_face_encodings.append(embedded_face)\n",
    "    known_face_IDs.append(user_ID)\n",
    "\n",
    "SaveData(known_face_IDs, known_face_encodings, LWF_PATH_USER_ID, LWF_PATH_USER_IMG_ENCODED)\n",
    "print(\"Time load data {}\".format(time.time() - time_start))"
   ]
  },
  {
   "cell_type": "markdown",
   "metadata": {},
   "source": [
    "## TRAIN KNN FOR LWF"
   ]
  },
  {
   "cell_type": "code",
   "execution_count": 103,
   "metadata": {},
   "outputs": [
    {
     "name": "stdout",
     "output_type": "stream",
     "text": [
      "Finishing train KNN Model: 0.00308990478515625 second\n"
     ]
    }
   ],
   "source": [
    "# KNN PARAs\n",
    "NUM_NEIGHBROS = 5\n",
    "KNN_ALGORITHM = 'auto'\n",
    "KNN_WEIGHTS = 'uniform'\n",
    "\n",
    "knn_clf = None\n",
    "known_face_IDs = []\n",
    "known_face_encodings = []\n",
    "\n",
    "# Load data\n",
    "known_face_IDs, known_face_encodings = LoadData(LWF_PATH_USER_ID, LWF_PATH_USER_IMG_ENCODED)\n",
    "\n",
    "# Create and train the KNN classifier\n",
    "time_request = time.time()\n",
    "knn_clf = neighbors.KNeighborsClassifier(n_neighbors=NUM_NEIGHBROS, algorithm=KNN_ALGORITHM, weights=KNN_WEIGHTS, metric='euclidean')\n",
    "\n",
    "# self.__known_face_encodings is list of ndarray\n",
    "# self.__known_face_IDs is list of str\n",
    "knn_clf.fit(known_face_encodings, known_face_IDs)\n",
    "SaveKNNModel(knn_clf, LWF_KNN_MODEL_PATH)\n",
    "print(\"Finishing train KNN Model: {} second\".format(time.time() - time_request))"
   ]
  },
  {
   "cell_type": "markdown",
   "metadata": {},
   "source": [
    "## Measure distance parameter"
   ]
  },
  {
   "cell_type": "code",
   "execution_count": 57,
   "metadata": {},
   "outputs": [
    {
     "name": "stdout",
     "output_type": "stream",
     "text": [
      "Mean correct distance: 0.3913046669594229\n",
      "Max correct distance: 0.5488320656333571\n",
      "Min correct distance: 0.18617529925446935\n",
      "Variance correct distance: 0.002898015503305196\n",
      "\n",
      "Mean incorrect distance: 0.5011503510295898\n",
      "Max incorrect distance: 0.5560722799212208\n",
      "Min incorrect distance: 0.4444566442822639\n",
      "Variance incorrect distance: 0.0010349061167313678\n",
      "\n"
     ]
    },
    {
     "data": {
      "image/png": "[encoded data removed]",
      "text/plain": [
       "<Figure size 432x288 with 1 Axes>"
      ]
     },
     "metadata": {
      "needs_background": "light"
     },
     "output_type": "display_data"
    }
   ],
   "source": [
    "from sklearn.metrics import accuracy_score\n",
    "from sklearn.metrics import precision_score\n",
    "from sklearn.metrics import recall_score\n",
    "import time\n",
    "import numpy as np\n",
    "import os\n",
    "\n",
    "knn_clf = None\n",
    "known_face_IDs = None\n",
    "known_face_encodings = None\n",
    "\n",
    "dis_correct = []\n",
    "dis_incorrect = []\n",
    "\n",
    "total_faces = 0\n",
    "\n",
    "# Load KNN Model\n",
    "knn_clf = LoadKNNModel(LWF_KNN_MODEL_PATH)\n",
    "known_face_IDs, known_face_encodings = LoadData(LWF_PATH_USER_ID, LWF_PATH_USER_IMG_ENCODED)\n",
    "\n",
    "# print(len(known_face_IDs))\n",
    "for i in range(len(X_test)):\n",
    "    img = X_test[i]\n",
    "    \n",
    "    # Pre-processing\n",
    "    preprocessed_img = preprocessing(img)\n",
    "    \n",
    "    # Convert to embedded code\n",
    "    embedded_face = face_encodings(preprocessed_img, [(0,IMAGE_SIZE,IMAGE_SIZE,0)])[0]\n",
    "    embedded_face = embedded_face.reshape(1,-1)\n",
    "    \n",
    "    has_face = False\n",
    "    total_faces += 1\n",
    "    start_time = time.time()\n",
    "    \n",
    "    # Classifying\n",
    "    closet_distances = knn_clf.kneighbors(embedded_face, n_neighbors = 3)\n",
    "    face_id = knn_clf.predict(embedded_face)\n",
    "    \n",
    "    for j in range(len(closet_distances)):\n",
    "        if known_face_IDs[closet_distances[1][0][j]] == face_id[-1]:\n",
    "            if face_id[-1] == Y_test[i]:\n",
    "                dis_correct.append(closet_distances[0][0][j])\n",
    "            else:\n",
    "                dis_incorrect.append(closet_distances[0][0][j])\n",
    "    \n",
    "#     if total_faces > 3870:\n",
    "    if total_faces > 1000:\n",
    "        break\n",
    "\n",
    "\n",
    "import numpy as np\n",
    "import matplotlib.pyplot as plt\n",
    "from scipy.stats import norm\n",
    "\n",
    "print(\"Mean correct distance: {}\".format(np.mean(dis_correct)))\n",
    "print(\"Max correct distance: {}\".format(np.max(dis_correct)))\n",
    "print(\"Min correct distance: {}\".format(np.min(dis_correct)))\n",
    "print(\"Variance correct distance: {}\".format(np.var(dis_correct)))\n",
    "print()\n",
    "\n",
    "print(\"Mean incorrect distance: {}\".format(np.mean(dis_incorrect)))\n",
    "print(\"Max incorrect distance: {}\".format(np.max(dis_incorrect)))\n",
    "print(\"Min incorrect distance: {}\".format(np.min(dis_incorrect)))\n",
    "print(\"Variance incorrect distance: {}\".format(np.var(dis_incorrect)))\n",
    "print()\n",
    "\n",
    "mu_correct = np.mean(dis_correct)\n",
    "variance_correct = np.var(dis_correct)\n",
    "sigma_correct = math.sqrt(variance_correct)\n",
    "x_correct = np.linspace(mu_correct - 3*sigma_correct, mu_correct + 3*sigma_correct, 100)\n",
    "y_correct = norm.pdf(x_correct, mu_correct, sigma_correct)\n",
    "\n",
    "mu_incorrect = np.mean(dis_incorrect)\n",
    "variance_incorrect = np.var(dis_incorrect)\n",
    "sigma_incorrect = math.sqrt(variance_incorrect)\n",
    "x_incorrect = np.linspace(mu_incorrect - 3*sigma_incorrect, mu_incorrect + 3*sigma_incorrect, 100)\n",
    "y_incorrect = norm.pdf(x_incorrect, mu_incorrect, sigma_incorrect)\n",
    "\n",
    "plt.plot(x_correct, y_correct, label='correct')\n",
    "plt.plot(x_incorrect, y_incorrect, label='incorrect')\n",
    "plt.legend();\n"
   ]
  },
  {
   "cell_type": "markdown",
   "metadata": {},
   "source": [
    "## TEST FACE RECOGNITION FOR LWF DATASET"
   ]
  },
  {
   "cell_type": "code",
   "execution_count": 159,
   "metadata": {},
   "outputs": [
    {
     "name": "stderr",
     "output_type": "stream",
     "text": [
      "/Users/khoa1799/.virtualenvs/my_env/lib/python3.9/site-packages/sklearn/metrics/_classification.py:1245: UndefinedMetricWarning: Precision is ill-defined and being set to 0.0 in labels with no predicted samples. Use `zero_division` parameter to control this behavior.\n",
      "  _warn_prf(average, modifier, msg_start, len(result))\n"
     ]
    },
    {
     "name": "stdout",
     "output_type": "stream",
     "text": [
      "Statistic report for identifying known face:\n",
      "\tPrecision score: 0.9834455885826838\n",
      "\n",
      "\tTotal images: 3870\n",
      "\tTotal time: 6.885436773300171\n",
      "\tMaximum time processing time: 0.057720184326171875\n",
      "\tMinimum time processing time: 0.0013167858123779297\n",
      "\tMeans time: 0.001779182628759734\n",
      "\tStandard deviation time: 0.0018908394816202362\n",
      "\n",
      "Statistic report for identifying unknown face:\n",
      "\tPrecision score: 0.7094006147540983\n",
      "\n",
      "\tTotal images: 7808\n",
      "\tTotal time: 13.241910219192505\n",
      "\tMaximum time processing time: 0.02983403205871582\n",
      "\tMinimum time processing time: 0.0014190673828125\n",
      "\tMeans time: 0.0016959413702859253\n",
      "\tStandard deviation time: 0.001152126850693415\n"
     ]
    }
   ],
   "source": [
    "from sklearn.metrics import accuracy_score\n",
    "from sklearn.metrics import precision_score\n",
    "from sklearn.metrics import recall_score\n",
    "from sklearn.metrics import f1_score\n",
    "\n",
    "import time\n",
    "import numpy as np\n",
    "import os\n",
    "\n",
    "THRESHOLD_FACE_REC = 0.5\n",
    "knn_clf = None\n",
    "known_face_IDs = None\n",
    "known_face_encodings = None\n",
    "\n",
    "# known faces\n",
    "predict_known_face = []\n",
    "list_time_known_faces = []\n",
    "total_knonw_faces = 0\n",
    "\n",
    "# unknown faces\n",
    "predict_unknown_face = []\n",
    "list_time_unknown_faces = []\n",
    "total_unknown_faces = 0\n",
    "\n",
    "# Load KNN Model\n",
    "knn_clf = LoadKNNModel(LWF_KNN_MODEL_PATH)\n",
    "known_face_IDs, known_face_encodings = LoadData(LWF_PATH_USER_ID, LWF_PATH_USER_IMG_ENCODED)\n",
    "\n",
    "# KNOWN FACES\n",
    "for i in range(len(X_test)):\n",
    "    img = X_test[i]\n",
    "    \n",
    "    # Pre-processing\n",
    "    preprocessed_img = preprocessing(img)\n",
    "    \n",
    "    # Convert to embedded code\n",
    "    embedded_face = face_encodings(preprocessed_img, [(0,IMAGE_SIZE,IMAGE_SIZE,0)])[0]\n",
    "    embedded_face = embedded_face.reshape(1,-1)\n",
    "    \n",
    "    has_face = False\n",
    "    total_knonw_faces += 1\n",
    "    start_time = time.time()\n",
    "    \n",
    "    # Classifying\n",
    "    closet_distances = knn_clf.kneighbors(embedded_face, n_neighbors = 5)\n",
    "    face_id = knn_clf.predict(embedded_face)\n",
    "    meet_condition_threshold = [closet_distances[0][0][i] <= THRESHOLD_FACE_REC for i in range(len(closet_distances[0][0]))]\n",
    "    \n",
    "    for j in range(len(meet_condition_threshold)):\n",
    "        if meet_condition_threshold[j] and known_face_IDs[closet_distances[1][0][j]] == face_id[-1]:\n",
    "            predict_known_face.append(face_id[-1])\n",
    "            has_face = True\n",
    "            break\n",
    "    if has_face == False:\n",
    "        predict_known_face.append(-1)\n",
    "        \n",
    "    list_time_known_faces.append(time.time() - start_time)\n",
    "    # 3870\n",
    "    if total_knonw_faces > 3870:\n",
    "        break\n",
    "        \n",
    "# print(Y_test[0:total_knonw_faces])\n",
    "# print(predict_known_face)\n",
    "precision_score_known_faces = precision_score(Y_test[0:total_knonw_faces], predict_known_face, average='weighted')\n",
    "\n",
    "means = np.mean(list_time_known_faces)\n",
    "std = np.std(list_time_known_faces)\n",
    "total_time = np.sum(list_time_known_faces)\n",
    "\n",
    "print(\"Statistic report for identifying known face:\")\n",
    "\n",
    "print(\"\\tPrecision score: {}\".format(precision_score_known_faces))\n",
    "print()\n",
    "print(\"\\tTotal images: {}\".format(total_knonw_faces))\n",
    "print(\"\\tTotal time: {}\".format(total_time))\n",
    "print(\"\\tMaximum time processing time: {}\".format(numpy.max(list_time_known_faces)))\n",
    "print(\"\\tMinimum time processing time: {}\".format(numpy.min(list_time_known_faces)))\n",
    "print(\"\\tMeans time: {}\".format(means))\n",
    "print(\"\\tStandard deviation time: {}\".format(std))\n",
    "print()\n",
    "\n",
    "# UNKNOWN FACES\n",
    "unknown_faces = [-1]*len(X_unknown)\n",
    "for i in range(len(X_unknown)):\n",
    "    img = X_unknown[i]\n",
    "    \n",
    "    # Pre-processing\n",
    "    preprocessed_img = preprocessing(img)\n",
    "    \n",
    "    # Convert to embedded code\n",
    "    embedded_face = face_encodings(preprocessed_img, [(0,IMAGE_SIZE,IMAGE_SIZE,0)])[0]\n",
    "    embedded_face = embedded_face.reshape(1,-1)\n",
    "    \n",
    "    has_face = False\n",
    "    total_unknown_faces += 1\n",
    "    start_time = time.time()\n",
    "    \n",
    "    # Classifying\n",
    "    closet_distances = knn_clf.kneighbors(embedded_face, n_neighbors = 5)\n",
    "    face_id = knn_clf.predict(embedded_face)\n",
    "    meet_condition_threshold = [closet_distances[0][0][i] <= THRESHOLD_FACE_REC for i in range(len(closet_distances[0][0]))]\n",
    "    \n",
    "    for j in range(len(meet_condition_threshold)):\n",
    "        if meet_condition_threshold[j] and known_face_IDs[closet_distances[1][0][j]] == face_id[-1]:\n",
    "            predict_unknown_face.append(face_id[-1])\n",
    "            has_face = True\n",
    "            break\n",
    "    if has_face == False:\n",
    "        predict_unknown_face.append(-1)\n",
    "        \n",
    "    list_time_unknown_faces.append(time.time() - start_time)\n",
    "    \n",
    "#     Total face: 7808\n",
    "    if total_unknown_faces > 7808:\n",
    "        break\n",
    "        \n",
    "# print(unknown_faces[0:total_unknown_faces])\n",
    "# print(predict_unknown_face)\n",
    "precision_score_unknown_faces = accuracy_score(unknown_faces[0:total_unknown_faces], predict_unknown_face)\n",
    "\n",
    "means = np.mean(list_time_unknown_faces)\n",
    "std = np.std(list_time_unknown_faces)\n",
    "total_time = np.sum(list_time_unknown_faces)\n",
    "\n",
    "print(\"Statistic report for identifying unknown face:\")\n",
    "\n",
    "print(\"\\tPrecision score: {}\".format(precision_score_unknown_faces))\n",
    "print()\n",
    "print(\"\\tTotal images: {}\".format(total_unknown_faces))\n",
    "print(\"\\tTotal time: {}\".format(total_time))\n",
    "print(\"\\tMaximum time processing time: {}\".format(numpy.max(list_time_unknown_faces)))\n",
    "print(\"\\tMinimum time processing time: {}\".format(numpy.min(list_time_unknown_faces)))\n",
    "print(\"\\tMeans time: {}\".format(means))\n",
    "print(\"\\tStandard deviation time: {}\".format(std))"
   ]
  },
  {
   "cell_type": "markdown",
   "metadata": {},
   "source": [
    "# SVM TEST"
   ]
  },
  {
   "cell_type": "markdown",
   "metadata": {},
   "source": [
    "## TRAIN SVM FOR LWF"
   ]
  },
  {
   "cell_type": "code",
   "execution_count": 119,
   "metadata": {},
   "outputs": [
    {
     "name": "stdout",
     "output_type": "stream",
     "text": [
      "Finishing train KNN Model: 0.6337647438049316 second\n"
     ]
    }
   ],
   "source": [
    "from sklearn.model_selection import GridSearchCV\n",
    "from sklearn.svm import SVC\n",
    "from sklearn.decomposition import PCA as RandomizedPCA\n",
    "\n",
    "svm_clf = None\n",
    "known_face_IDs = []\n",
    "known_face_encodings = []\n",
    "\n",
    "# Load data\n",
    "known_face_IDs, known_face_encodings = LoadData(LWF_PATH_USER_ID, LWF_PATH_USER_IMG_ENCODED)\n",
    "\n",
    "time_request = time.time()\n",
    "# print(\"Fitting the classifier to the training set\")\n",
    "# param_grid = {\n",
    "#          'C': [1e3, 5e3, 1e4, 5e4, 1e5],\n",
    "#           'gamma': [0.0001, 0.0005, 0.001, 0.005, 0.01, 0.1],\n",
    "#           }\n",
    "# svm_clf = GridSearchCV(SVC(kernel='rbf', class_weight='balanced'), param_grid)\n",
    "# print(\"Best estimator found by grid search:\")\n",
    "# print(svm_clf.best_estimator_)\n",
    "\n",
    "# Found the best for C=5000.0 and gamma=0.0005:\n",
    "svm_clf = SVC(kernel='rbf', class_weight='balanced', C=5000.0, gamma=0.0005)\n",
    "svm_clf = svm_clf.fit(known_face_encodings, known_face_IDs)\n",
    "\n",
    "print(\"Finishing train KNN Model: {} second\".format(time.time() - time_request))\n",
    "SaveSVMModel(svm_clf, LWF_SVM_MODEL_PATH)"
   ]
  },
  {
   "cell_type": "code",
   "execution_count": 124,
   "metadata": {},
   "outputs": [
    {
     "name": "stdout",
     "output_type": "stream",
     "text": [
      "Statistic report for identifying known face:\n",
      "\tAccurancy score: 0.9702970297029703\n",
      "\tPrecision score: 0.9933993399339935\n",
      "\tRecall score: 0.9702970297029703\n",
      "\tF1 score: 0.9804231203918541\n",
      "\n",
      "\tTotal images: 101\n",
      "\tTotal time: 0.14963722229003906\n",
      "\tMaximum time processing time: 0.005624055862426758\n",
      "\tMinimum time processing time: 0.001299142837524414\n",
      "\tMeans time: 0.0014815566563370205\n",
      "\tStandard deviation time: 7.371486516341538e-05\n"
     ]
    },
    {
     "name": "stderr",
     "output_type": "stream",
     "text": [
      "/Users/khoa1799/.virtualenvs/my_env/lib/python3.9/site-packages/sklearn/metrics/_classification.py:1245: UndefinedMetricWarning: Recall is ill-defined and being set to 0.0 in labels with no true samples. Use `zero_division` parameter to control this behavior.\n",
      "  _warn_prf(average, modifier, msg_start, len(result))\n"
     ]
    }
   ],
   "source": [
    "from sklearn.metrics import accuracy_score\n",
    "from sklearn.metrics import precision_score\n",
    "from sklearn.metrics import recall_score\n",
    "from sklearn.metrics import f1_score\n",
    "import time\n",
    "import numpy as np\n",
    "import os\n",
    "\n",
    "svm_clf = None\n",
    "known_face_IDs = None\n",
    "known_face_encodings = None\n",
    "\n",
    "predict_face = []\n",
    "list_time_processing = []\n",
    "\n",
    "total_faces = 0\n",
    "\n",
    "# Load SVM Model\n",
    "svm_clf = LoadSVMModel(LWF_SVM_MODEL_PATH)\n",
    "known_face_IDs, known_face_encodings = LoadData(LWF_PATH_USER_ID, LWF_PATH_USER_IMG_ENCODED)\n",
    "\n",
    "# print(len(known_face_IDs))\n",
    "for i in range(len(X_test)):\n",
    "    img = X_test[i]\n",
    "    \n",
    "    # Pre-processing\n",
    "    preprocessed_img = preprocessing(img)\n",
    "    \n",
    "    # Convert to embedded code\n",
    "    embedded_face = face_encodings(preprocessed_img, [(0,IMAGE_SIZE,IMAGE_SIZE,0)])[0]\n",
    "    embedded_face = embedded_face.reshape(1,-1)\n",
    "    \n",
    "    has_face = False\n",
    "    total_faces += 1\n",
    "    start_time = time.time()\n",
    "    \n",
    "    face_id = svm_clf.predict(embedded_face)\n",
    "    predict_face.append(face_id[-1])\n",
    "        \n",
    "    list_time_processing.append(time.time() - start_time)\n",
    "    \n",
    "#     Total: 3870\n",
    "    if total_faces > 100:\n",
    "        break\n",
    "\n",
    "accurancy_score = accuracy_score(Y_test[0:total_faces], predict_face)\n",
    "precision_score = precision_score(Y_test[0:total_faces], predict_face, average='weighted')\n",
    "recall_score = recall_score(Y_test[0:total_faces], predict_face, average='weighted')\n",
    "f1_score = f1_score(Y_test[0:total_faces], predict_face, average='weighted')\n",
    "\n",
    "means = np.mean(list_time_processing)\n",
    "std = np.std(list_time_processing)\n",
    "total_time = np.sum(list_time_processing)\n",
    "\n",
    "print(\"Statistic report for identifying known face:\")\n",
    "\n",
    "print(\"\\tAccurancy score: {}\".format(accurancy_score))\n",
    "print(\"\\tPrecision score: {}\".format(precision_score))\n",
    "print(\"\\tRecall score: {}\".format(recall_score))\n",
    "print(\"\\tF1 score: {}\".format(f1_score))\n",
    "print()\n",
    "print(\"\\tTotal images: {}\".format(total_faces))\n",
    "print(\"\\tTotal time: {}\".format(total_time))\n",
    "print(\"\\tMaximum time processing time: {}\".format(numpy.max(list_time_known_faces)))\n",
    "print(\"\\tMinimum time processing time: {}\".format(numpy.min(list_time_known_faces)))\n",
    "print(\"\\tMeans time: {}\".format(means))\n",
    "print(\"\\tStandard deviation time: {}\".format(std))"
   ]
  }
 ],
 "metadata": {
  "kernelspec": {
   "display_name": "Python 3",
   "language": "python",
   "name": "python3"
  },
  "language_info": {
   "codemirror_mode": {
    "name": "ipython",
    "version": 3
   },
   "file_extension": ".py",
   "mimetype": "text/x-python",
   "name": "python",
   "nbconvert_exporter": "python",
   "pygments_lexer": "ipython3",
   "version": "3.9.1"
  }
 },
 "nbformat": 4,
 "nbformat_minor": 4
}
